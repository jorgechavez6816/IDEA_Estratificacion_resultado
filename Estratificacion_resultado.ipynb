{
 "cells": [
  {
   "cell_type": "code",
   "execution_count": 1,
   "metadata": {},
   "outputs": [],
   "source": [
    "import win32com.client as win32ComClient\n",
    "\n",
    "if __name__ == \"__main__\":\n",
    "    try:\n",
    "        dbName = \"Ejemplo-Detalle de ventas.IMD\"\n",
    "        idea = win32ComClient.Dispatch(dispatch=\"Idea.IdeaClient\")\n",
    "        db = idea.OpenDatabase(dbName)\n",
    "        task = db.Stratification()\n",
    "        task.IncludeAllFields()\n",
    "        resultName = db.UniqueResultName(\"Estratificacion_01\")\n",
    "        task.ResultName = resultName \n",
    "        task.FieldToStratify = (\"TOTAL\")\n",
    "        task.AddFieldToTotal(\"SUMA_TOTAL\")\n",
    "        task.LowerLimit(-52.71)\n",
    "        task.AddUpperLimit(9947.29)\n",
    "        task.AddUpperLimit(19947.29)\n",
    "        task.AddUpperLimit(29947.29)\n",
    "        task.AddUpperLimit(39947.29)\n",
    "        task.AddUpperLimit(49947.29)\n",
    "        task.AddUpperLimit(59947.29)\n",
    "        task.AddUpperLimit(69947.29)\n",
    "        task.AddUpperLimit(79947.29)\n",
    "        task.AddUpperLimit(89947.29)\n",
    "        task.AddUpperLimit(99947.29)\n",
    "        task.CreateVirtualDatabase = False\n",
    "        task.criteria = \"\"\n",
    "        task.PerformTask()\n",
    "    finally:\n",
    "        task = None\n",
    "        db = None\n",
    "        idea = None"
   ]
  },
  {
   "cell_type": "code",
   "execution_count": null,
   "metadata": {},
   "outputs": [],
   "source": []
  }
 ],
 "metadata": {
  "kernelspec": {
   "display_name": "Python 3",
   "language": "python",
   "name": "python3"
  },
  "language_info": {
   "codemirror_mode": {
    "name": "ipython",
    "version": 3
   },
   "file_extension": ".py",
   "mimetype": "text/x-python",
   "name": "python",
   "nbconvert_exporter": "python",
   "pygments_lexer": "ipython3",
   "version": "3.7.6"
  }
 },
 "nbformat": 4,
 "nbformat_minor": 4
}
